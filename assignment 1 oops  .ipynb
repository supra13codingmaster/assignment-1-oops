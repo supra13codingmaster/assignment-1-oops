{
 "cells": [
  {
   "cell_type": "code",
   "execution_count": null,
   "id": "a7326f66-0eda-4f11-a405-691ec82688d6",
   "metadata": {},
   "outputs": [],
   "source": [
    "question-1"
   ]
  },
  {
   "cell_type": "code",
   "execution_count": null,
   "id": "b702b0a8-fa63-47e4-bf9f-2bc7a1622017",
   "metadata": {},
   "outputs": [],
   "source": [
    "class is a set of blueprint of an object.for example  a car as a class that has characteristics like steering wheels, seats, brakes, etc. And its behavior is mobility."
   ]
  },
  {
   "cell_type": "code",
   "execution_count": null,
   "id": "835b3598-b37d-4a1f-beda-2dcb2fc39674",
   "metadata": {},
   "outputs": [],
   "source": [
    "object- object is building blocks of oops .\n",
    "an object is a instance of a class. \n",
    "example-car "
   ]
  },
  {
   "cell_type": "code",
   "execution_count": null,
   "id": "f7e0a634-18a5-4cdb-b538-3043a8b32624",
   "metadata": {},
   "outputs": [],
   "source": [
    "Question -2"
   ]
  },
  {
   "cell_type": "code",
   "execution_count": null,
   "id": "8079c349-ca3b-480d-973f-f713346f2903",
   "metadata": {},
   "outputs": [],
   "source": [
    "four pillar of the oops-\n",
    "1.abstraction\n",
    "2.encapsulation\n",
    "3.inheritance\n",
    "4.polymorphism "
   ]
  },
  {
   "cell_type": "code",
   "execution_count": null,
   "id": "cbcaf138-8215-474b-a31f-9a091fddbe9f",
   "metadata": {},
   "outputs": [],
   "source": [
    "Question-3"
   ]
  },
  {
   "cell_type": "code",
   "execution_count": null,
   "id": "789816e0-412d-4e70-8b1a-ecf5b7653a87",
   "metadata": {},
   "outputs": [],
   "source": [
    " __init__ is a special method known as the constructor.\n",
    "    It is automatically called when a new instance (object) of a class is created.\n",
    "    The __init__ method allows you to initialize the attributes (variables) of an object.\n",
    "Example-class MyClass:\n",
    "    def __init__(self, name, age):\n",
    "        self.name = name\n",
    "        self.age = age\n",
    "\n",
    "    def display_info(self):\n",
    "        print(f\"Name: {self.name}\")\n",
    "        print(f\"Age: {self.age}\")"
   ]
  },
  {
   "cell_type": "code",
   "execution_count": null,
   "id": "97cb4f02-217f-4aa3-a09b-a197712aceac",
   "metadata": {},
   "outputs": [],
   "source": [
    "Question-4"
   ]
  },
  {
   "cell_type": "code",
   "execution_count": null,
   "id": "e16dbd47-48fc-48cf-86c1-62802c20b695",
   "metadata": {},
   "outputs": [],
   "source": [
    "The self variable is used to represent the instance of the class which is often used in object-oriented programming.\n",
    "It works as a reference to the object."
   ]
  },
  {
   "cell_type": "code",
   "execution_count": null,
   "id": "c8e06862-32bc-4e66-8d41-4c104bf7ee59",
   "metadata": {},
   "outputs": [],
   "source": [
    "Question-5"
   ]
  },
  {
   "cell_type": "code",
   "execution_count": null,
   "id": "66196198-2874-4e78-a647-563f159dc6de",
   "metadata": {},
   "outputs": [],
   "source": [
    "Inheritance is the concept in OOPs in which one class inherits the attributes and methods of another class.\n",
    "there are different types of inheritance \n",
    "Single inheritance.\n",
    "Multi-level inheritance.\n",
    "Hierarchical Inheritance"
   ]
  },
  {
   "cell_type": "code",
   "execution_count": null,
   "id": "3d5eede9-d760-4723-bfd7-d20fb97c6e87",
   "metadata": {},
   "outputs": [],
   "source": []
  },
  {
   "cell_type": "code",
   "execution_count": null,
   "id": "6123f8bc-9c07-4639-b7bc-e9c0279f442e",
   "metadata": {},
   "outputs": [],
   "source": []
  },
  {
   "cell_type": "code",
   "execution_count": null,
   "id": "34f5228e-5bf5-4b73-be76-9e5ab0d5034b",
   "metadata": {},
   "outputs": [],
   "source": []
  },
  {
   "cell_type": "code",
   "execution_count": null,
   "id": "c799ce12-8bf5-4f5b-84b4-2983bcd44625",
   "metadata": {},
   "outputs": [],
   "source": []
  },
  {
   "cell_type": "code",
   "execution_count": null,
   "id": "b7a2cdc8-27a6-4967-a08d-a43c301bc6ae",
   "metadata": {},
   "outputs": [],
   "source": []
  },
  {
   "cell_type": "code",
   "execution_count": null,
   "id": "ee4fb7d1-cbf1-478c-bf40-77543606fe94",
   "metadata": {},
   "outputs": [],
   "source": []
  }
 ],
 "metadata": {
  "kernelspec": {
   "display_name": "Python 3 (ipykernel)",
   "language": "python",
   "name": "python3"
  },
  "language_info": {
   "codemirror_mode": {
    "name": "ipython",
    "version": 3
   },
   "file_extension": ".py",
   "mimetype": "text/x-python",
   "name": "python",
   "nbconvert_exporter": "python",
   "pygments_lexer": "ipython3",
   "version": "3.10.8"
  }
 },
 "nbformat": 4,
 "nbformat_minor": 5
}
